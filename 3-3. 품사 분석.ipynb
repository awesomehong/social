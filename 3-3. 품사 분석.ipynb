{
 "cells": [
  {
   "cell_type": "code",
   "execution_count": 1,
   "metadata": {},
   "outputs": [
    {
     "name": "stdout",
     "output_type": "stream",
     "text": [
      "/usr/lib/jvm/java-8-openjdk-amd64\n"
     ]
    }
   ],
   "source": [
    "import os\n",
    "java_home = os.environ.get('JAVA_HOME', None)\n",
    "if not java_home:\n",
    "    java_path = 'C:/Program Files/Java/jdk-14.0.1/bin'\n",
    "    os.environ['JAVA_HOME'] = java_path\n",
    "else:\n",
    "    print(java_home)"
   ]
  },
  {
   "cell_type": "code",
   "execution_count": 4,
   "metadata": {},
   "outputs": [
    {
     "name": "stdout",
     "output_type": "stream",
     "text": [
      "['친척들', '이', '모이', 'ㄴ', '이번', '추석', '차례상', '에서는', '단연', \"'\", '집값', \"'\", '이', '화제', '에', '오르', '아다', '.']\n"
     ]
    }
   ],
   "source": [
    "from konlpy.tag import Hannanum\n",
    "\n",
    "hannanum = Hannanum()\n",
    "\n",
    "print(hannanum.morphs(\"친척들이 모인 이번 추석 차례상에서는 단연 '집값'이 화제에 올랐다.\"))\n"
   ]
  },
  {
   "cell_type": "code",
   "execution_count": 6,
   "metadata": {},
   "outputs": [
    {
     "name": "stdout",
     "output_type": "stream",
     "text": [
      "['친척들', '이번', '추석', '차례상', '집값', '화제']\n"
     ]
    }
   ],
   "source": [
    "print(hannanum.nouns(\"친척들이 모인 이번 추석 차례상에서는 단연 '집값'이 화제에 올랐다.\"))"
   ]
  },
  {
   "cell_type": "code",
   "execution_count": 9,
   "metadata": {},
   "outputs": [
    {
     "name": "stdout",
     "output_type": "stream",
     "text": [
      "[('친척들', 'N'), ('이', 'J'), ('모이', 'P'), ('ㄴ', 'E'), ('이번', 'N'), ('추석', 'N'), ('차례상', 'N'), ('에서는', 'J'), ('단연', 'M'), (\"'\", 'S'), ('집값', 'N'), (\"'\", 'S'), ('이', 'J'), ('화제', 'N'), ('에', 'J'), ('오르', 'P'), ('아다', 'E'), ('.', 'S')]\n",
      "[('친척들', 'NC'), ('이', 'JC'), ('모이', 'PV'), ('ㄴ', 'ET'), ('이', 'NN'), ('번', 'NB'), ('추석', 'NC'), ('차례상', 'NC'), ('에서', 'JC'), ('는', 'JX'), ('단연', 'MA'), (\"'\", 'SR'), ('집값', 'NC'), (\"'\", 'SR'), ('이', 'JC'), ('화제', 'NC'), ('에', 'JC'), ('오르', 'PV'), ('아', 'EP'), ('다', 'EF'), ('.', 'SF')]\n"
     ]
    }
   ],
   "source": [
    "print(hannanum.pos(\"친척들이 모인 이번 추석 차례상에서는 단연 '집값'이 화제에 올랐다.\", ntags=9))\n",
    "print(hannanum.pos(\"친척들이 모인 이번 추석 차례상에서는 단연 '집값'이 화제에 올랐다.\", ntags=22))"
   ]
  },
  {
   "cell_type": "code",
   "execution_count": 10,
   "metadata": {},
   "outputs": [
    {
     "name": "stdout",
     "output_type": "stream",
     "text": [
      "['친구', '들', '이', '모이', 'ㄴ', '이번', '추석', '차례', '상', '에서', '는', '단연', \"'\", '집', '값', \"'\", '이', '화제', '에', '오르', '았', '다', '.']\n"
     ]
    }
   ],
   "source": [
    "from konlpy.tag import Kkma\n",
    "\n",
    "kkma = Kkma()\n",
    "\n",
    "print(kkma.morphs(\"친구들이 모인 이번 추석 차례상에서는 단연 '집값'이 화제에 올랐다.\"))"
   ]
  },
  {
   "cell_type": "code",
   "execution_count": 11,
   "metadata": {},
   "outputs": [
    {
     "name": "stdout",
     "output_type": "stream",
     "text": [
      "['친척', '이번', '추석', '차례', '차례상', '상', '집', '집값', '값', '화제', '랐']\n"
     ]
    }
   ],
   "source": [
    "print(kkma.nouns(\"친척들이 모인 이번 추석 차례상에서는 단연 '집값'이 화제에 올랐따.\"))"
   ]
  },
  {
   "cell_type": "code",
   "execution_count": 13,
   "metadata": {},
   "outputs": [
    {
     "name": "stdout",
     "output_type": "stream",
     "text": [
      "[('친척', 'NNG'), ('들', 'XSN'), ('이', 'JKS'), ('모이', 'VV'), ('ㄴ', 'ETD'), ('이번', 'NNG'), ('추석', 'NNG'), ('차례', 'NNG'), ('상', 'NNG'), ('에서', 'JKM'), ('는', 'JX'), ('단연', 'MAG'), (\"'\", 'SS'), ('집', 'NNG'), ('값', 'NNG'), (\"'\", 'SS'), ('이', 'MDT'), ('화제', 'NNG'), ('에', 'JKM'), ('오', 'VV'), ('ㄹ', 'ETD'), ('랐', 'UN'), ('따', 'VV'), ('아', 'ECS'), ('.', 'SF')]\n"
     ]
    }
   ],
   "source": [
    "print(kkma.pos(\"친척들이 모인 이번 추석 차례상에서는 단연 '집값'이 화제에 올랐따.\"))"
   ]
  },
  {
   "cell_type": "code",
   "execution_count": 14,
   "metadata": {},
   "outputs": [
    {
     "name": "stderr",
     "output_type": "stream",
     "text": [
      "/home/taemin/apps/miniconda3/envs/py38/lib/python3.8/site-packages/konlpy/tag/_okt.py:17: UserWarning: \"Twitter\" has changed to \"Okt\" since KoNLPy v0.4.5.\n",
      "  warn('\"Twitter\" has changed to \"Okt\" since KoNLPy v0.4.5.')\n"
     ]
    },
    {
     "name": "stdout",
     "output_type": "stream",
     "text": [
      "['친척', '들', '이', '모인', '이번', '추석', '차례상', '에서는', '단연', \"'\", '집값', \"'\", '이', '화제', '에', '올랐다', '.']\n"
     ]
    }
   ],
   "source": [
    "from konlpy.tag import Twitter\n",
    "\n",
    "twitter = Twitter()\n",
    "\n",
    "print(twitter.morphs(\"친척들이 모인 이번 추석 차례상에서는 단연 '집값'이 화제에 올랐다.\"))"
   ]
  },
  {
   "cell_type": "code",
   "execution_count": 15,
   "metadata": {},
   "outputs": [
    {
     "name": "stdout",
     "output_type": "stream",
     "text": [
      "['친척', '이번', '추석', '차례상', '단연', '집값', '이', '화제']\n"
     ]
    }
   ],
   "source": [
    "print(twitter.nouns(\"친척들이 모인 이번 추석 차례상에서는 단연 '집값'이 화제에 올랐다.\"))"
   ]
  },
  {
   "cell_type": "code",
   "execution_count": 16,
   "metadata": {},
   "outputs": [
    {
     "name": "stdout",
     "output_type": "stream",
     "text": [
      "[('친척', 'Noun'), ('들', 'Suffix'), ('이', 'Josa'), ('모인', 'Verb'), ('이번', 'Noun'), ('추석', 'Noun'), ('차례상', 'Noun'), ('에서는', 'Josa'), ('단연', 'Noun'), (\"'\", 'Punctuation'), ('집값', 'Noun'), (\"'\", 'Punctuation'), ('이', 'Noun'), ('화제', 'Noun'), ('에', 'Josa'), ('올랐다', 'Verb'), ('.', 'Punctuation')]\n"
     ]
    }
   ],
   "source": [
    "print(twitter.pos(\"친척들이 모인 이번 추석 차례상에서는 단연 '집값'이 화제에 올랐다.\"))"
   ]
  },
  {
   "cell_type": "code",
   "execution_count": 17,
   "metadata": {},
   "outputs": [
    {
     "name": "stdout",
     "output_type": "stream",
     "text": [
      "['친척들', '이번', '이번 추석', '이번 추석 차례상', '단연', '집값', '이 화제', '추석', '차례상', '화제']\n"
     ]
    }
   ],
   "source": [
    "print(twitter.phrases(\"친척들이 모인 이번 추석 차례상에서는 단연 '집값'이 화제에 올랐다.\"))"
   ]
  },
  {
   "cell_type": "code",
   "execution_count": 18,
   "metadata": {},
   "outputs": [
    {
     "name": "stdout",
     "output_type": "stream",
     "text": [
      "[('The', 'DT'), ('little', 'JJ'), ('yellow', 'JJ'), ('dog', 'NN'), ('barked', 'VBD'), ('at', 'IN'), ('the', 'DT'), ('Persian', 'NNP'), ('cat.', 'NN')]\n"
     ]
    }
   ],
   "source": [
    "from nltk import pos_tag\n",
    "\n",
    "tokens = \"The little yellow dog barked at the Persian cat.\".split()\n",
    "tags_en = pos_tag(tokens)\n",
    "print(tags_en)"
   ]
  },
  {
   "cell_type": "code",
   "execution_count": null,
   "metadata": {},
   "outputs": [],
   "source": []
  }
 ],
 "metadata": {
  "interpreter": {
   "hash": "2e1b0c77e58f92970600c3a6e737fdb2f3a28434a1dfc3f0e149b91f15af1124"
  },
  "kernelspec": {
   "display_name": "Python 3.8.12 ('py38')",
   "language": "python",
   "name": "python3"
  },
  "language_info": {
   "codemirror_mode": {
    "name": "ipython",
    "version": 3
   },
   "file_extension": ".py",
   "mimetype": "text/x-python",
   "name": "python",
   "nbconvert_exporter": "python",
   "pygments_lexer": "ipython3",
   "version": "3.8.12"
  },
  "orig_nbformat": 4
 },
 "nbformat": 4,
 "nbformat_minor": 2
}
